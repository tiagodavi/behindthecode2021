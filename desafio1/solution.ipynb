{
  "nbformat": 4,
  "nbformat_minor": 0,
  "metadata": {
    "colab": {
      "name": "desafio_1_final.ipynb",
      "provenance": []
    },
    "kernelspec": {
      "name": "python3",
      "display_name": "Python 3"
    },
    "language_info": {
      "name": "python"
    }
  },
  "cells": [
    {
      "cell_type": "code",
      "metadata": {
        "id": "zCxgBSods65e"
      },
      "source": [
        "from sklearn.ensemble import GradientBoostingClassifier\n",
        "from sklearn.metrics import classification_report\n",
        "from sklearn.preprocessing import LabelEncoder, StandardScaler\n",
        "from yellowbrick.classifier import ConfusionMatrix\n",
        "import pandas as pd\n",
        "import numpy as np"
      ],
      "execution_count": 290,
      "outputs": []
    },
    {
      "cell_type": "code",
      "metadata": {
        "id": "Qv8zAEVdzv0f"
      },
      "source": [
        "import pickle\n",
        "with open('data.pkl', 'rb') as f:\n",
        "  X_train, X_test, y_train, y_test = pickle.load(f)"
      ],
      "execution_count": 291,
      "outputs": []
    },
    {
      "cell_type": "code",
      "metadata": {
        "colab": {
          "base_uri": "https://localhost:8080/"
        },
        "id": "wGNsnjLKtfM7",
        "outputId": "69c9a4de-7cf1-4aac-e08b-90082c124df2"
      },
      "source": [
        "clf = GradientBoostingClassifier(n_estimators=100, learning_rate=1.0, max_depth=1, random_state=0).fit(X_train, y_train)\n",
        "clf.score(X_test, y_test)"
      ],
      "execution_count": 292,
      "outputs": [
        {
          "output_type": "execute_result",
          "data": {
            "text/plain": [
              "0.8362068965517241"
            ]
          },
          "metadata": {},
          "execution_count": 292
        }
      ]
    },
    {
      "cell_type": "code",
      "metadata": {
        "colab": {
          "base_uri": "https://localhost:8080/",
          "height": 362
        },
        "id": "tkWsuZFy1aMX",
        "outputId": "68a2e668-b5d0-4718-e46a-cae81d695699"
      },
      "source": [
        "cm = ConfusionMatrix(clf)\n",
        "cm.fit(X_train, y_train)\n",
        "cm.score(X_test, y_test)"
      ],
      "execution_count": 293,
      "outputs": [
        {
          "output_type": "execute_result",
          "data": {
            "text/plain": [
              "0.8362068965517241"
            ]
          },
          "metadata": {},
          "execution_count": 293
        },
        {
          "output_type": "display_data",
          "data": {
            "image/png": "[encoded data removed]",
            "text/plain": [
              "<Figure size 576x396 with 1 Axes>"
            ]
          },
          "metadata": {}
        }
      ]
    },
    {
      "cell_type": "code",
      "metadata": {
        "colab": {
          "base_uri": "https://localhost:8080/"
        },
        "id": "V6gRWlyQ1juQ",
        "outputId": "8889dc67-f968-418c-b948-f6ba2e1612ef"
      },
      "source": [
        "prev = clf.predict(X_test)\n",
        "print(classification_report(y_test, prev))"
      ],
      "execution_count": 294,
      "outputs": [
        {
          "output_type": "stream",
          "name": "stdout",
          "text": [
            "              precision    recall  f1-score   support\n",
            "\n",
            "           0       0.85      0.83      0.84       296\n",
            "           1       0.82      0.85      0.83       284\n",
            "\n",
            "    accuracy                           0.84       580\n",
            "   macro avg       0.84      0.84      0.84       580\n",
            "weighted avg       0.84      0.84      0.84       580\n",
            "\n"
          ]
        }
      ]
    },
    {
      "cell_type": "code",
      "metadata": {
        "colab": {
          "base_uri": "https://localhost:8080/",
          "height": 226
        },
        "id": "l2NIz8mJ1xhV",
        "outputId": "185c7d44-61ba-4f76-d338-4ba0d1da6aa7"
      },
      "source": [
        "answers = pd.read_csv(\"ANSWERS.csv\")\n",
        "df = answers.copy()\n",
        "df.head()"
      ],
      "execution_count": 295,
      "outputs": [
        {
          "output_type": "execute_result",
          "data": {
            "text/html": [
              "<div>\n",
              "<style scoped>\n",
              "    .dataframe tbody tr th:only-of-type {\n",
              "        vertical-align: middle;\n",
              "    }\n",
              "\n",
              "    .dataframe tbody tr th {\n",
              "        vertical-align: top;\n",
              "    }\n",
              "\n",
              "    .dataframe thead th {\n",
              "        text-align: right;\n",
              "    }\n",
              "</style>\n",
              "<table border=\"1\" class=\"dataframe\">\n",
              "  <thead>\n",
              "    <tr style=\"text-align: right;\">\n",
              "      <th></th>\n",
              "      <th>ID</th>\n",
              "      <th>CHECKING_BALANCE</th>\n",
              "      <th>PAYMENT_TERM</th>\n",
              "      <th>CREDIT_HISTORY</th>\n",
              "      <th>LOAN_PURPOSE</th>\n",
              "      <th>LOAN_AMOUNT</th>\n",
              "      <th>EXISTING_SAVINGS</th>\n",
              "      <th>EMPLOYMENT_DURATION</th>\n",
              "      <th>INSTALLMENT_PERCENT</th>\n",
              "      <th>SEX</th>\n",
              "      <th>OTHERS_ON_LOAN</th>\n",
              "      <th>CURRENT_RESIDENCE_DURATION</th>\n",
              "      <th>PROPERTY</th>\n",
              "      <th>AGE</th>\n",
              "      <th>INSTALLMENT_PLANS</th>\n",
              "      <th>HOUSING</th>\n",
              "      <th>EXISTING_CREDITS_COUNT</th>\n",
              "      <th>JOB_TYPE</th>\n",
              "      <th>DEPENDENTS</th>\n",
              "      <th>TELEPHONE</th>\n",
              "      <th>FOREIGN_WORKER</th>\n",
              "      <th>ALLOW</th>\n",
              "    </tr>\n",
              "  </thead>\n",
              "  <tbody>\n",
              "    <tr>\n",
              "      <th>0</th>\n",
              "      <td>1078506</td>\n",
              "      <td>25.84</td>\n",
              "      <td>465</td>\n",
              "      <td>NO_CREDITS</td>\n",
              "      <td>CAR_NEW</td>\n",
              "      <td>250</td>\n",
              "      <td>38.35</td>\n",
              "      <td>0</td>\n",
              "      <td>1</td>\n",
              "      <td>F</td>\n",
              "      <td>NONE</td>\n",
              "      <td>2</td>\n",
              "      <td>REAL_ESTATE</td>\n",
              "      <td>32</td>\n",
              "      <td>STORES</td>\n",
              "      <td>OWN</td>\n",
              "      <td>1</td>\n",
              "      <td>3</td>\n",
              "      <td>1</td>\n",
              "      <td>0</td>\n",
              "      <td>1</td>\n",
              "      <td>TO_FILL</td>\n",
              "    </tr>\n",
              "    <tr>\n",
              "      <th>1</th>\n",
              "      <td>947575</td>\n",
              "      <td>-439.72</td>\n",
              "      <td>120</td>\n",
              "      <td>ALL_CREDITS_PAID_BACK</td>\n",
              "      <td>CAR_NEW</td>\n",
              "      <td>250</td>\n",
              "      <td>1.62</td>\n",
              "      <td>0</td>\n",
              "      <td>2</td>\n",
              "      <td>M</td>\n",
              "      <td>CO-APPLICANT</td>\n",
              "      <td>2</td>\n",
              "      <td>REAL_ESTATE</td>\n",
              "      <td>25</td>\n",
              "      <td>STORES</td>\n",
              "      <td>RENT</td>\n",
              "      <td>1</td>\n",
              "      <td>3</td>\n",
              "      <td>1</td>\n",
              "      <td>0</td>\n",
              "      <td>1</td>\n",
              "      <td>TO_FILL</td>\n",
              "    </tr>\n",
              "    <tr>\n",
              "      <th>2</th>\n",
              "      <td>133043</td>\n",
              "      <td>169.45</td>\n",
              "      <td>527</td>\n",
              "      <td>PRIOR_PAYMENTS_DELAYED</td>\n",
              "      <td>RADIO_TV</td>\n",
              "      <td>2207</td>\n",
              "      <td>184.97</td>\n",
              "      <td>6</td>\n",
              "      <td>2</td>\n",
              "      <td>M</td>\n",
              "      <td>NONE</td>\n",
              "      <td>3</td>\n",
              "      <td>SAVINGS_INSURANCE</td>\n",
              "      <td>32</td>\n",
              "      <td>STORES</td>\n",
              "      <td>OWN</td>\n",
              "      <td>2</td>\n",
              "      <td>1</td>\n",
              "      <td>2</td>\n",
              "      <td>0</td>\n",
              "      <td>1</td>\n",
              "      <td>TO_FILL</td>\n",
              "    </tr>\n",
              "    <tr>\n",
              "      <th>3</th>\n",
              "      <td>1031383</td>\n",
              "      <td>NO_CHECKING</td>\n",
              "      <td>720</td>\n",
              "      <td>OUTSTANDING_CREDIT</td>\n",
              "      <td>CAR_USED</td>\n",
              "      <td>5064</td>\n",
              "      <td>731.03</td>\n",
              "      <td>6</td>\n",
              "      <td>4</td>\n",
              "      <td>M</td>\n",
              "      <td>NONE</td>\n",
              "      <td>2</td>\n",
              "      <td>CAR_OTHER</td>\n",
              "      <td>49</td>\n",
              "      <td>NONE</td>\n",
              "      <td>OWN</td>\n",
              "      <td>2</td>\n",
              "      <td>3</td>\n",
              "      <td>1</td>\n",
              "      <td>0</td>\n",
              "      <td>1</td>\n",
              "      <td>TO_FILL</td>\n",
              "    </tr>\n",
              "    <tr>\n",
              "      <th>4</th>\n",
              "      <td>491563</td>\n",
              "      <td>NO_CHECKING</td>\n",
              "      <td>420</td>\n",
              "      <td>OUTSTANDING_CREDIT</td>\n",
              "      <td>FURNITURE</td>\n",
              "      <td>3763</td>\n",
              "      <td>396.26</td>\n",
              "      <td>4</td>\n",
              "      <td>3</td>\n",
              "      <td>F</td>\n",
              "      <td>NONE</td>\n",
              "      <td>3</td>\n",
              "      <td>CAR_OTHER</td>\n",
              "      <td>46</td>\n",
              "      <td>STORES</td>\n",
              "      <td>OWN</td>\n",
              "      <td>1</td>\n",
              "      <td>1</td>\n",
              "      <td>2</td>\n",
              "      <td>1</td>\n",
              "      <td>1</td>\n",
              "      <td>TO_FILL</td>\n",
              "    </tr>\n",
              "  </tbody>\n",
              "</table>\n",
              "</div>"
            ],
            "text/plain": [
              "        ID CHECKING_BALANCE  PAYMENT_TERM  ... TELEPHONE FOREIGN_WORKER    ALLOW\n",
              "0  1078506            25.84           465  ...         0              1  TO_FILL\n",
              "1   947575          -439.72           120  ...         0              1  TO_FILL\n",
              "2   133043           169.45           527  ...         0              1  TO_FILL\n",
              "3  1031383      NO_CHECKING           720  ...         0              1  TO_FILL\n",
              "4   491563      NO_CHECKING           420  ...         1              1  TO_FILL\n",
              "\n",
              "[5 rows x 22 columns]"
            ]
          },
          "metadata": {},
          "execution_count": 295
        }
      ]
    },
    {
      "cell_type": "code",
      "metadata": {
        "id": "J776O_Yz3l8L"
      },
      "source": [
        "df['INSTALLMENT_PLANS'] = df['INSTALLMENT_PLANS'].fillna('NONE')\n",
        "df['LOAN_PURPOSE'] = df['LOAN_PURPOSE'].fillna('NONE')\n",
        "df['OTHERS_ON_LOAN'] = df['OTHERS_ON_LOAN'].fillna('NONE')\n",
        "df['PROPERTY'] = df['PROPERTY'].fillna('UNKNOWN')\n",
        "df['CREDIT_HISTORY'] = df['CREDIT_HISTORY'].fillna('NO_CREDITS')\n",
        "df['CHECKING_BALANCE'] = df['CHECKING_BALANCE'].fillna(0)\n",
        "df['CHECKING_BALANCE'] = df['CHECKING_BALANCE'].replace('NO_CHECKING', 0)"
      ],
      "execution_count": 296,
      "outputs": []
    },
    {
      "cell_type": "code",
      "metadata": {
        "id": "6aiIOeww7SrQ"
      },
      "source": [
        "df['CHECKING_BALANCE'] = pd.to_numeric(df['CHECKING_BALANCE'], errors='coerce')"
      ],
      "execution_count": 297,
      "outputs": []
    },
    {
      "cell_type": "code",
      "metadata": {
        "id": "WO_6kBFz5-jS"
      },
      "source": [
        "df['EXISTING_SAVINGS'] = pd.to_numeric(df['EXISTING_SAVINGS'], errors='coerce')\n",
        "df['EXISTING_SAVINGS'] = df['EXISTING_SAVINGS'].fillna(0)\n",
        "df['EXISTING_SAVINGS'] = df['EXISTING_SAVINGS'].replace(0, df['EXISTING_SAVINGS'].median())"
      ],
      "execution_count": 298,
      "outputs": []
    },
    {
      "cell_type": "code",
      "metadata": {
        "colab": {
          "base_uri": "https://localhost:8080/"
        },
        "id": "ymHs1N626LSS",
        "outputId": "77f7b24e-9fa1-4aef-bd6c-37e227470b72"
      },
      "source": [
        "df.isnull().sum()"
      ],
      "execution_count": 299,
      "outputs": [
        {
          "output_type": "execute_result",
          "data": {
            "text/plain": [
              "ID                            0\n",
              "CHECKING_BALANCE              0\n",
              "PAYMENT_TERM                  0\n",
              "CREDIT_HISTORY                0\n",
              "LOAN_PURPOSE                  0\n",
              "LOAN_AMOUNT                   0\n",
              "EXISTING_SAVINGS              0\n",
              "EMPLOYMENT_DURATION           0\n",
              "INSTALLMENT_PERCENT           0\n",
              "SEX                           0\n",
              "OTHERS_ON_LOAN                0\n",
              "CURRENT_RESIDENCE_DURATION    0\n",
              "PROPERTY                      0\n",
              "AGE                           0\n",
              "INSTALLMENT_PLANS             0\n",
              "HOUSING                       0\n",
              "EXISTING_CREDITS_COUNT        0\n",
              "JOB_TYPE                      0\n",
              "DEPENDENTS                    0\n",
              "TELEPHONE                     0\n",
              "FOREIGN_WORKER                0\n",
              "ALLOW                         0\n",
              "dtype: int64"
            ]
          },
          "metadata": {},
          "execution_count": 299
        }
      ]
    },
    {
      "cell_type": "code",
      "metadata": {
        "id": "dKFBet4F45Nt"
      },
      "source": [
        "le_SEX = LabelEncoder()\n",
        "le_PROPERTY = LabelEncoder()\n",
        "le_HOUSING = LabelEncoder()\n",
        "\n",
        "le_INSTALLMENT_PLANS = LabelEncoder()\n",
        "le_LOAN_PURPOSE = LabelEncoder()\n",
        "le_OTHERS_ON_LOAN = LabelEncoder()\n",
        "\n",
        "le_CREDIT_HISTORY = LabelEncoder()"
      ],
      "execution_count": 300,
      "outputs": []
    },
    {
      "cell_type": "code",
      "metadata": {
        "id": "u9F0Vcgp5l36"
      },
      "source": [
        "df['SEX'] = le_SEX.fit_transform(df['SEX'])\n",
        "df['PROPERTY'] = le_PROPERTY.fit_transform(df['PROPERTY'])\n",
        "df['HOUSING'] = le_HOUSING.fit_transform(df['HOUSING'])\n",
        "\n",
        "df['INSTALLMENT_PLANS'] = le_INSTALLMENT_PLANS.fit_transform(df['INSTALLMENT_PLANS'])\n",
        "df['LOAN_PURPOSE'] = le_LOAN_PURPOSE.fit_transform(df['LOAN_PURPOSE'])\n",
        "df['OTHERS_ON_LOAN'] = le_OTHERS_ON_LOAN.fit_transform(df['OTHERS_ON_LOAN'])\n",
        "df['CREDIT_HISTORY'] = le_CREDIT_HISTORY.fit_transform(df['CREDIT_HISTORY'])"
      ],
      "execution_count": 301,
      "outputs": []
    },
    {
      "cell_type": "code",
      "metadata": {
        "colab": {
          "base_uri": "https://localhost:8080/"
        },
        "id": "BoAj59BR7BxD",
        "outputId": "c75cd52d-5225-47b0-cfcd-4e021e638fb4"
      },
      "source": [
        "df.info()"
      ],
      "execution_count": 302,
      "outputs": [
        {
          "output_type": "stream",
          "name": "stdout",
          "text": [
            "<class 'pandas.core.frame.DataFrame'>\n",
            "RangeIndex: 1000 entries, 0 to 999\n",
            "Data columns (total 22 columns):\n",
            " #   Column                      Non-Null Count  Dtype  \n",
            "---  ------                      --------------  -----  \n",
            " 0   ID                          1000 non-null   int64  \n",
            " 1   CHECKING_BALANCE            1000 non-null   float64\n",
            " 2   PAYMENT_TERM                1000 non-null   int64  \n",
            " 3   CREDIT_HISTORY              1000 non-null   int64  \n",
            " 4   LOAN_PURPOSE                1000 non-null   int64  \n",
            " 5   LOAN_AMOUNT                 1000 non-null   int64  \n",
            " 6   EXISTING_SAVINGS            1000 non-null   float64\n",
            " 7   EMPLOYMENT_DURATION         1000 non-null   int64  \n",
            " 8   INSTALLMENT_PERCENT         1000 non-null   int64  \n",
            " 9   SEX                         1000 non-null   int64  \n",
            " 10  OTHERS_ON_LOAN              1000 non-null   int64  \n",
            " 11  CURRENT_RESIDENCE_DURATION  1000 non-null   int64  \n",
            " 12  PROPERTY                    1000 non-null   int64  \n",
            " 13  AGE                         1000 non-null   int64  \n",
            " 14  INSTALLMENT_PLANS           1000 non-null   int64  \n",
            " 15  HOUSING                     1000 non-null   int64  \n",
            " 16  EXISTING_CREDITS_COUNT      1000 non-null   int64  \n",
            " 17  JOB_TYPE                    1000 non-null   int64  \n",
            " 18  DEPENDENTS                  1000 non-null   int64  \n",
            " 19  TELEPHONE                   1000 non-null   int64  \n",
            " 20  FOREIGN_WORKER              1000 non-null   int64  \n",
            " 21  ALLOW                       1000 non-null   object \n",
            "dtypes: float64(2), int64(19), object(1)\n",
            "memory usage: 172.0+ KB\n"
          ]
        }
      ]
    },
    {
      "cell_type": "code",
      "metadata": {
        "id": "02fw1umd_9De"
      },
      "source": [
        "df = df.drop(columns=['ID', 'ALLOW'])"
      ],
      "execution_count": 303,
      "outputs": []
    },
    {
      "cell_type": "code",
      "metadata": {
        "id": "-zBSvPh3CDst"
      },
      "source": [
        "X = df.values"
      ],
      "execution_count": 304,
      "outputs": []
    },
    {
      "cell_type": "code",
      "metadata": {
        "colab": {
          "base_uri": "https://localhost:8080/"
        },
        "id": "s1K3Q3rmCKXM",
        "outputId": "12b504f7-017c-4f5b-a548-68f8aa5135bd"
      },
      "source": [
        "X.shape"
      ],
      "execution_count": 305,
      "outputs": [
        {
          "output_type": "execute_result",
          "data": {
            "text/plain": [
              "(1000, 20)"
            ]
          },
          "metadata": {},
          "execution_count": 305
        }
      ]
    },
    {
      "cell_type": "code",
      "metadata": {
        "id": "G7m_IRp9CcXz"
      },
      "source": [
        "indexes = [0, 1, 2, 3, 4, 5, 6, 7, 8, 9, 10, 11, 12, 14, 16, 17, 18, 19]"
      ],
      "execution_count": 306,
      "outputs": []
    },
    {
      "cell_type": "code",
      "metadata": {
        "colab": {
          "base_uri": "https://localhost:8080/"
        },
        "id": "ZKqwkd99CiLN",
        "outputId": "75be1119-6ca3-40d4-d522-1257a05a32a1"
      },
      "source": [
        "X = X[:, indexes]\n",
        "X.shape"
      ],
      "execution_count": 307,
      "outputs": [
        {
          "output_type": "execute_result",
          "data": {
            "text/plain": [
              "(1000, 18)"
            ]
          },
          "metadata": {},
          "execution_count": 307
        }
      ]
    },
    {
      "cell_type": "code",
      "metadata": {
        "colab": {
          "base_uri": "https://localhost:8080/"
        },
        "id": "dKp0AstWCtbb",
        "outputId": "65dc077f-761a-4fdc-ff0b-92d8539ebece"
      },
      "source": [
        "scaler = StandardScaler()\n",
        "X = scaler.fit_transform(X)\n",
        "X"
      ],
      "execution_count": 308,
      "outputs": [
        {
          "output_type": "execute_result",
          "data": {
            "text/plain": [
              "array([[-0.13065073, -0.5216232 , -0.17790598, ..., -0.45897032,\n",
              "        -0.83017419,  0.14998296],\n",
              "       [-0.34960546, -1.51580597, -1.47176762, ..., -0.45897032,\n",
              "        -0.83017419,  0.14998296],\n",
              "       [-0.06311038, -0.34295847,  1.11595567, ...,  2.17879013,\n",
              "        -0.83017419,  0.14998296],\n",
              "       ...,\n",
              "       [-0.06835426, -0.25362611, -0.8248368 , ..., -0.45897032,\n",
              "        -0.83017419,  0.14998296],\n",
              "       [-0.14280339,  1.50996766,  1.11595567, ..., -0.45897032,\n",
              "         1.20456647,  0.14998296],\n",
              "       [-0.14280339,  0.90481294,  1.11595567, ...,  2.17879013,\n",
              "         1.20456647,  0.14998296]])"
            ]
          },
          "metadata": {},
          "execution_count": 308
        }
      ]
    },
    {
      "cell_type": "code",
      "metadata": {
        "id": "_6FXmnouCyrb"
      },
      "source": [
        "y = clf.predict(X)"
      ],
      "execution_count": 309,
      "outputs": []
    },
    {
      "cell_type": "code",
      "metadata": {
        "colab": {
          "base_uri": "https://localhost:8080/"
        },
        "id": "P5CaFy8ZC9Hz",
        "outputId": "de541d61-3b87-4f42-bdd8-6df76139565b"
      },
      "source": [
        "y"
      ],
      "execution_count": 310,
      "outputs": [
        {
          "output_type": "execute_result",
          "data": {
            "text/plain": [
              "array([0, 0, 0, 0, 0, 0, 0, 0, 0, 0, 0, 0, 0, 0, 0, 0, 0, 0, 0, 0, 0, 0,\n",
              "       0, 0, 0, 0, 0, 0, 0, 0, 0, 0, 0, 0, 0, 0, 0, 0, 0, 0, 0, 0, 0, 0,\n",
              "       0, 0, 0, 0, 0, 0, 0, 0, 0, 0, 0, 0, 0, 0, 0, 0, 0, 0, 0, 0, 0, 0,\n",
              "       0, 0, 0, 0, 0, 0, 0, 0, 0, 0, 0, 0, 0, 0, 0, 0, 1, 0, 0, 0, 0, 0,\n",
              "       0, 0, 0, 0, 0, 0, 0, 0, 1, 0, 0, 0, 1, 0, 0, 0, 0, 0, 0, 0, 0, 0,\n",
              "       0, 0, 0, 0, 0, 0, 0, 0, 0, 0, 0, 0, 0, 0, 0, 0, 0, 0, 0, 0, 0, 0,\n",
              "       0, 0, 0, 0, 0, 0, 0, 0, 0, 0, 0, 0, 0, 0, 0, 0, 0, 0, 0, 0, 0, 0,\n",
              "       0, 0, 0, 0, 0, 0, 0, 0, 0, 0, 0, 0, 0, 0, 0, 0, 0, 0, 0, 0, 0, 0,\n",
              "       0, 0, 0, 0, 0, 0, 0, 0, 0, 0, 0, 0, 0, 0, 0, 0, 0, 0, 0, 0, 0, 0,\n",
              "       0, 0, 0, 0, 0, 0, 0, 0, 1, 0, 0, 0, 0, 0, 0, 0, 0, 0, 0, 0, 0, 0,\n",
              "       0, 0, 0, 0, 0, 0, 0, 0, 0, 0, 0, 0, 0, 0, 0, 0, 0, 0, 0, 0, 0, 0,\n",
              "       0, 0, 0, 0, 0, 0, 0, 0, 1, 0, 0, 0, 0, 0, 0, 0, 0, 0, 0, 0, 0, 0,\n",
              "       0, 0, 0, 0, 0, 0, 0, 0, 1, 0, 0, 0, 0, 0, 0, 0, 0, 0, 0, 0, 0, 1,\n",
              "       0, 1, 0, 0, 0, 0, 0, 0, 0, 0, 0, 0, 0, 0, 0, 0, 0, 0, 0, 0, 0, 0,\n",
              "       0, 0, 0, 0, 0, 0, 0, 0, 0, 0, 0, 0, 0, 0, 0, 0, 0, 0, 0, 0, 0, 0,\n",
              "       0, 0, 0, 0, 0, 0, 0, 0, 0, 0, 0, 0, 0, 0, 0, 0, 0, 1, 0, 0, 0, 0,\n",
              "       0, 0, 0, 0, 0, 0, 0, 0, 0, 0, 1, 0, 1, 0, 0, 0, 0, 0, 0, 0, 0, 0,\n",
              "       0, 0, 0, 0, 0, 0, 0, 0, 0, 0, 0, 0, 0, 0, 0, 0, 0, 1, 0, 0, 0, 0,\n",
              "       0, 0, 0, 0, 0, 0, 0, 0, 0, 0, 0, 0, 0, 0, 0, 0, 0, 0, 0, 0, 1, 0,\n",
              "       0, 0, 0, 0, 0, 0, 1, 0, 0, 0, 0, 0, 0, 0, 0, 0, 0, 0, 0, 0, 0, 0,\n",
              "       0, 0, 0, 0, 0, 0, 0, 0, 0, 0, 0, 0, 0, 0, 0, 0, 0, 0, 0, 0, 0, 0,\n",
              "       0, 0, 0, 0, 0, 0, 1, 0, 0, 0, 0, 0, 0, 0, 0, 0, 0, 0, 0, 0, 0, 0,\n",
              "       0, 0, 0, 0, 0, 0, 0, 0, 0, 0, 0, 1, 0, 0, 0, 0, 0, 0, 0, 0, 0, 0,\n",
              "       0, 0, 0, 0, 0, 0, 0, 0, 0, 0, 0, 0, 0, 0, 0, 0, 0, 0, 0, 0, 0, 1,\n",
              "       0, 0, 0, 0, 0, 0, 0, 1, 0, 0, 1, 0, 0, 0, 0, 0, 0, 0, 0, 0, 0, 0,\n",
              "       0, 1, 0, 0, 1, 0, 0, 0, 0, 0, 0, 0, 0, 0, 0, 1, 0, 0, 0, 0, 0, 0,\n",
              "       1, 0, 0, 0, 0, 0, 0, 0, 0, 0, 0, 0, 0, 0, 0, 0, 0, 0, 0, 0, 0, 0,\n",
              "       0, 0, 0, 0, 0, 0, 0, 0, 0, 0, 0, 0, 0, 0, 0, 0, 0, 0, 0, 0, 0, 0,\n",
              "       0, 0, 0, 0, 0, 0, 0, 0, 0, 0, 0, 0, 0, 0, 0, 0, 0, 0, 0, 0, 0, 0,\n",
              "       0, 0, 0, 0, 0, 0, 0, 0, 0, 0, 0, 0, 0, 0, 0, 0, 0, 0, 0, 0, 0, 1,\n",
              "       0, 0, 0, 0, 0, 0, 0, 0, 0, 0, 0, 0, 0, 0, 0, 0, 0, 0, 0, 0, 0, 0,\n",
              "       0, 0, 0, 0, 0, 1, 0, 0, 0, 0, 0, 0, 0, 0, 0, 0, 0, 0, 0, 0, 0, 0,\n",
              "       0, 0, 0, 0, 0, 0, 0, 1, 0, 0, 0, 0, 0, 0, 0, 0, 0, 0, 0, 0, 0, 0,\n",
              "       0, 0, 0, 0, 0, 0, 0, 0, 0, 0, 0, 0, 0, 0, 0, 0, 0, 0, 0, 1, 1, 0,\n",
              "       0, 0, 0, 0, 0, 0, 0, 0, 0, 0, 0, 0, 0, 0, 0, 0, 0, 0, 0, 0, 0, 0,\n",
              "       0, 0, 0, 0, 0, 0, 0, 0, 0, 0, 0, 0, 0, 0, 0, 0, 0, 0, 0, 0, 0, 0,\n",
              "       0, 0, 0, 0, 0, 0, 0, 0, 0, 0, 0, 0, 0, 0, 0, 0, 0, 0, 1, 0, 0, 0,\n",
              "       0, 0, 0, 0, 0, 0, 0, 0, 0, 0, 0, 0, 0, 0, 0, 0, 0, 0, 0, 0, 0, 0,\n",
              "       0, 0, 0, 0, 0, 0, 0, 1, 0, 0, 0, 0, 1, 0, 0, 0, 0, 0, 1, 0, 0, 0,\n",
              "       0, 0, 0, 0, 0, 0, 0, 0, 0, 0, 0, 0, 0, 0, 0, 0, 0, 0, 0, 0, 0, 0,\n",
              "       1, 1, 0, 0, 0, 0, 0, 0, 0, 0, 0, 0, 0, 0, 0, 0, 0, 0, 0, 0, 0, 0,\n",
              "       0, 0, 0, 0, 0, 1, 0, 0, 0, 0, 0, 0, 0, 1, 0, 0, 0, 0, 0, 0, 0, 0,\n",
              "       0, 0, 0, 1, 0, 0, 0, 0, 0, 0, 0, 0, 0, 0, 0, 0, 0, 0, 1, 0, 0, 0,\n",
              "       0, 0, 0, 0, 0, 0, 0, 0, 0, 0, 0, 0, 0, 0, 0, 0, 0, 0, 1, 0, 0, 0,\n",
              "       0, 0, 0, 0, 0, 0, 0, 0, 0, 0, 0, 0, 0, 0, 0, 0, 0, 0, 0, 0, 0, 0,\n",
              "       0, 0, 0, 0, 0, 0, 0, 0, 0, 0])"
            ]
          },
          "metadata": {},
          "execution_count": 310
        }
      ]
    },
    {
      "cell_type": "code",
      "metadata": {
        "id": "D0oJpcMvDpV0"
      },
      "source": [
        "answers['ALLOW'] = y"
      ],
      "execution_count": 312,
      "outputs": []
    },
    {
      "cell_type": "code",
      "metadata": {
        "id": "cruTv-gQDz_a"
      },
      "source": [
        "answers.to_csv('result.csv', index=False)"
      ],
      "execution_count": 318,
      "outputs": []
    },
    {
      "cell_type": "code",
      "metadata": {
        "colab": {
          "base_uri": "https://localhost:8080/",
          "height": 226
        },
        "id": "j4WCbE-yEe2E",
        "outputId": "9fe2b658-29c2-4a61-fee5-6e5a5dce5aa9"
      },
      "source": [
        "h = pd.read_csv(\"result.csv\")\n",
        "h.head()"
      ],
      "execution_count": 319,
      "outputs": [
        {
          "output_type": "execute_result",
          "data": {
            "text/html": [
              "<div>\n",
              "<style scoped>\n",
              "    .dataframe tbody tr th:only-of-type {\n",
              "        vertical-align: middle;\n",
              "    }\n",
              "\n",
              "    .dataframe tbody tr th {\n",
              "        vertical-align: top;\n",
              "    }\n",
              "\n",
              "    .dataframe thead th {\n",
              "        text-align: right;\n",
              "    }\n",
              "</style>\n",
              "<table border=\"1\" class=\"dataframe\">\n",
              "  <thead>\n",
              "    <tr style=\"text-align: right;\">\n",
              "      <th></th>\n",
              "      <th>ID</th>\n",
              "      <th>CHECKING_BALANCE</th>\n",
              "      <th>PAYMENT_TERM</th>\n",
              "      <th>CREDIT_HISTORY</th>\n",
              "      <th>LOAN_PURPOSE</th>\n",
              "      <th>LOAN_AMOUNT</th>\n",
              "      <th>EXISTING_SAVINGS</th>\n",
              "      <th>EMPLOYMENT_DURATION</th>\n",
              "      <th>INSTALLMENT_PERCENT</th>\n",
              "      <th>SEX</th>\n",
              "      <th>OTHERS_ON_LOAN</th>\n",
              "      <th>CURRENT_RESIDENCE_DURATION</th>\n",
              "      <th>PROPERTY</th>\n",
              "      <th>AGE</th>\n",
              "      <th>INSTALLMENT_PLANS</th>\n",
              "      <th>HOUSING</th>\n",
              "      <th>EXISTING_CREDITS_COUNT</th>\n",
              "      <th>JOB_TYPE</th>\n",
              "      <th>DEPENDENTS</th>\n",
              "      <th>TELEPHONE</th>\n",
              "      <th>FOREIGN_WORKER</th>\n",
              "      <th>ALLOW</th>\n",
              "    </tr>\n",
              "  </thead>\n",
              "  <tbody>\n",
              "    <tr>\n",
              "      <th>0</th>\n",
              "      <td>1078506</td>\n",
              "      <td>25.84</td>\n",
              "      <td>465</td>\n",
              "      <td>NO_CREDITS</td>\n",
              "      <td>CAR_NEW</td>\n",
              "      <td>250</td>\n",
              "      <td>38.35</td>\n",
              "      <td>0</td>\n",
              "      <td>1</td>\n",
              "      <td>F</td>\n",
              "      <td>NONE</td>\n",
              "      <td>2</td>\n",
              "      <td>REAL_ESTATE</td>\n",
              "      <td>32</td>\n",
              "      <td>STORES</td>\n",
              "      <td>OWN</td>\n",
              "      <td>1</td>\n",
              "      <td>3</td>\n",
              "      <td>1</td>\n",
              "      <td>0</td>\n",
              "      <td>1</td>\n",
              "      <td>0</td>\n",
              "    </tr>\n",
              "    <tr>\n",
              "      <th>1</th>\n",
              "      <td>947575</td>\n",
              "      <td>-439.72</td>\n",
              "      <td>120</td>\n",
              "      <td>ALL_CREDITS_PAID_BACK</td>\n",
              "      <td>CAR_NEW</td>\n",
              "      <td>250</td>\n",
              "      <td>1.62</td>\n",
              "      <td>0</td>\n",
              "      <td>2</td>\n",
              "      <td>M</td>\n",
              "      <td>CO-APPLICANT</td>\n",
              "      <td>2</td>\n",
              "      <td>REAL_ESTATE</td>\n",
              "      <td>25</td>\n",
              "      <td>STORES</td>\n",
              "      <td>RENT</td>\n",
              "      <td>1</td>\n",
              "      <td>3</td>\n",
              "      <td>1</td>\n",
              "      <td>0</td>\n",
              "      <td>1</td>\n",
              "      <td>0</td>\n",
              "    </tr>\n",
              "    <tr>\n",
              "      <th>2</th>\n",
              "      <td>133043</td>\n",
              "      <td>169.45</td>\n",
              "      <td>527</td>\n",
              "      <td>PRIOR_PAYMENTS_DELAYED</td>\n",
              "      <td>RADIO_TV</td>\n",
              "      <td>2207</td>\n",
              "      <td>184.97</td>\n",
              "      <td>6</td>\n",
              "      <td>2</td>\n",
              "      <td>M</td>\n",
              "      <td>NONE</td>\n",
              "      <td>3</td>\n",
              "      <td>SAVINGS_INSURANCE</td>\n",
              "      <td>32</td>\n",
              "      <td>STORES</td>\n",
              "      <td>OWN</td>\n",
              "      <td>2</td>\n",
              "      <td>1</td>\n",
              "      <td>2</td>\n",
              "      <td>0</td>\n",
              "      <td>1</td>\n",
              "      <td>0</td>\n",
              "    </tr>\n",
              "    <tr>\n",
              "      <th>3</th>\n",
              "      <td>1031383</td>\n",
              "      <td>NO_CHECKING</td>\n",
              "      <td>720</td>\n",
              "      <td>OUTSTANDING_CREDIT</td>\n",
              "      <td>CAR_USED</td>\n",
              "      <td>5064</td>\n",
              "      <td>731.03</td>\n",
              "      <td>6</td>\n",
              "      <td>4</td>\n",
              "      <td>M</td>\n",
              "      <td>NONE</td>\n",
              "      <td>2</td>\n",
              "      <td>CAR_OTHER</td>\n",
              "      <td>49</td>\n",
              "      <td>NONE</td>\n",
              "      <td>OWN</td>\n",
              "      <td>2</td>\n",
              "      <td>3</td>\n",
              "      <td>1</td>\n",
              "      <td>0</td>\n",
              "      <td>1</td>\n",
              "      <td>0</td>\n",
              "    </tr>\n",
              "    <tr>\n",
              "      <th>4</th>\n",
              "      <td>491563</td>\n",
              "      <td>NO_CHECKING</td>\n",
              "      <td>420</td>\n",
              "      <td>OUTSTANDING_CREDIT</td>\n",
              "      <td>FURNITURE</td>\n",
              "      <td>3763</td>\n",
              "      <td>396.26</td>\n",
              "      <td>4</td>\n",
              "      <td>3</td>\n",
              "      <td>F</td>\n",
              "      <td>NONE</td>\n",
              "      <td>3</td>\n",
              "      <td>CAR_OTHER</td>\n",
              "      <td>46</td>\n",
              "      <td>STORES</td>\n",
              "      <td>OWN</td>\n",
              "      <td>1</td>\n",
              "      <td>1</td>\n",
              "      <td>2</td>\n",
              "      <td>1</td>\n",
              "      <td>1</td>\n",
              "      <td>0</td>\n",
              "    </tr>\n",
              "  </tbody>\n",
              "</table>\n",
              "</div>"
            ],
            "text/plain": [
              "        ID CHECKING_BALANCE  PAYMENT_TERM  ... TELEPHONE FOREIGN_WORKER  ALLOW\n",
              "0  1078506            25.84           465  ...         0              1      0\n",
              "1   947575          -439.72           120  ...         0              1      0\n",
              "2   133043           169.45           527  ...         0              1      0\n",
              "3  1031383      NO_CHECKING           720  ...         0              1      0\n",
              "4   491563      NO_CHECKING           420  ...         1              1      0\n",
              "\n",
              "[5 rows x 22 columns]"
            ]
          },
          "metadata": {},
          "execution_count": 319
        }
      ]
    }
  ]
}